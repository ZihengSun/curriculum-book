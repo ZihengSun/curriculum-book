{
 "cells": [
  {
   "cell_type": "markdown",
   "metadata": {},
   "source": [
    "# 2.4 Data Formats\n",
    "\n",
    "\n",
    "JSON\n",
    "\n",
    "\n",
    "CSV vs Parquet\n",
    "\n",
    "H5\n",
    "\n",
    "Netcdf\n",
    "\n",
    "pickle\n",
    "\n",
    "\n",
    "\n"
   ]
  }
 ],
 "metadata": {
  "language_info": {
   "name": "python"
  },
  "orig_nbformat": 4
 },
 "nbformat": 4,
 "nbformat_minor": 2
}
